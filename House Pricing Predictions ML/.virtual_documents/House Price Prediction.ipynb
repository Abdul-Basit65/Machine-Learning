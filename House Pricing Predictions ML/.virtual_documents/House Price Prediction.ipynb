import pandas as pd 
import numpy as np 
import matplotlib.pyplot as plt 
import seaborn as sns 
import sklearn 


data= pd.read_csv("housing.csv")
data.head(5)


data.info()


data.dropna(inplace=True)


data.info()


from sklearn.model_selection import train_test_split

x = data.drop(["median_house_value",], axis=1)
y = data["median_house_value"]


x


pd.get_dummies(x.ocean_proximity).astype(int)


xc= x.join(pd.get_dummies(x.ocean_proximity).astype(int)).drop(['ocean_proximity'], axis=1)


xc


plt.figure(figsize=(15,8))
sns.heatmap(xc.corr(), annot=True)


x_train, x_test, y_train, y_test = train_test_split(xc, y, test_size=0.2, random_state=42)


x_train.shape


y_train.shape


from sklearn.linear_model import LinearRegression
lr = LinearRegression()
lr.fit(x_train, y_train)


lr.score(x_train, y_train)*100, lr.score(x_test, y_test)*100


from sklearn.ensemble import RandomForestRegressor

forest= RandomForestRegressor(n_estimators=50)
forest.fit(x_train, y_train)


forest.score(x_train, y_train)*100, forest.score(x_test, y_test)*100




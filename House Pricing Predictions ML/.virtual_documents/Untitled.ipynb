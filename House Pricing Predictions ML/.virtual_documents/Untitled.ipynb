import pandas as pd 
import numpy as np 
import matplotlib.pyplot as plt 
import seaborn as sns 
import sklearn 


data= pd.read_csv("housing.csv")
data.head(5)


data.info()


data.dropna(inplace=True)


data.info()


from sklearn.model_selection import train_test_split

x = data.drop(["median_house_value",], axis=1)
y = data["median_house_value"]


x


pd.get_dummies(x.ocean_proximity).astype(int)


xc= x.join(pd.get_dummies(x.ocean_proximity).astype(int)).drop(['ocean_proximity'], axis=1)


xc





x_train , y_train, x_test, y_test= train_test_split(x, y,test_size=0.2 )




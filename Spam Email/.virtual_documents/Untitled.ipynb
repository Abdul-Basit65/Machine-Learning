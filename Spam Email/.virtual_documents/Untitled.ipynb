import pandas as pd 
import matplotlib.pyplot as plt
import seaborn as sns


dataset= pd.read_csv("spam.csv")
dataset.head(5) 


dataset.shape


dataset.drop_duplicates(inplace=True)


dataset.info


dataset.shape


dataset.isnull().sum()


dataset['Category']= dataset['Category'].replace(['ham','spam'],['Not Spam','Spam'])


dataset.head(5)


x= dataset['Message']
y= dataset['Category']


x


y




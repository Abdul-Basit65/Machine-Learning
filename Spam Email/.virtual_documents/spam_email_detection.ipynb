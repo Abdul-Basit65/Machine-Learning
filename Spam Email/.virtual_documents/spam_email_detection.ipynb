import pandas as pd 
import matplotlib.pyplot as plt
import seaborn as sns


dataset= pd.read_csv("spam.csv")
dataset.head(5) 


dataset.shape


dataset.drop_duplicates(inplace=True)


dataset.info


dataset.shape


dataset.isnull().sum()


dataset['Category']= dataset['Category'].replace(['ham','spam'],['Not Spam','Spam'])


dataset.head()


x= dataset['Message']
y= dataset['Category']


x


y


from sklearn.model_selection import train_test_split


x_train, x_test, y_train, y_test = train_test_split(x, y, test_size=0.2, random_state=50)


from sklearn.feature_extraction.text import CountVectorizer


con_data = CountVectorizer(stop_words='english')


convert_data_train = con_data.fit_transform(x_train)


convert_data_test = con_data.transform(x_test)


from sklearn.naive_bayes import MultinomialNB


model = MultinomialNB()
model.fit(convert_data_train, y_train)


model.score(convert_data_train, y_train) * 100, model.score(convert_data_test, y_test)*100


# Custom input to test
custom_subject = ["Free entry in 2 a wkly comp to win FA Cup final tkts 21st May 2005. Text FA to 87121 to receive entry question(std txt rate)T&C's apply 08452810075over18's"]

# Transform the input using the same CountVectorizer
custom_data = con_data.transform(custom_subject)

# Predict using the trained model
prediction = model.predict(custom_data)

# Mapping prediction to readable output
if prediction[0] == 1:  # Assuming '1' corresponds to spam
    print("The subject line is classified as: SPAM")
else:  # Assuming '0' corresponds to not-spam
    print("The subject line is classified as: NOT-SPAM")



from sklearn.linear_model import LogisticRegression


lr = LogisticRegression()
lr.fit(convert_data_train, y_train)


lr.score(convert_data_train, y_train) * 100, lr.score(convert_data_test, y_test)*100


# Custom input to test
custom_subject = ["Free entry in 2 a wkly comp to win FA Cup final tkts 21st May 2005. Text FA to 87121 to receive entry question(std txt rate)T&C's apply 08452810075over18's"]

# Transform the input using the same CountVectorizer
custom_data = con_data.transform(custom_subject)

# Predict using the trained model
prediction = lr.predict(custom_data)

# Mapping prediction to readable output
if prediction[0] == 1:  # Assuming '1' corresponds to spam
    print("The subject line is classified as: SPAM")
else:  # Assuming '0' corresponds to not-spam
    print("The subject line is classified as: NOT-SPAM")








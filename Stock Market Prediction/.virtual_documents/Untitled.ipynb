import numpy as pd 
import matplotlib.pyplot as plt 
import seaborn as sns 
import datetime
import pandas as pd 


dataset = pd.read_csv("MSFT.csv")
dataset.head(5)


dataset.drop(columns=['Adj Close'], inplace=True)


dataset.head(5)


dataset.isnull().sum()


dataset.shape


dataset.info()


dataset['Open'].plot(figsize=(16,6))


# Convert all columns to float where possible
dataset = dataset.astype(float, errors='ignore')


dataset.head(5)


dataset.info()




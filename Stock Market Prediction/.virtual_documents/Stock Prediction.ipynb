import numpy as pd 
import matplotlib.pyplot as plt 
import seaborn as sns 
import datetime
import pandas as pd 


dataset = pd.read_csv("MSFT.csv")
dataset.head(5)


dataset.drop(columns=['Adj Close'], inplace=True)


dataset.head(5)


dataset.isnull().sum()


dataset.shape


dataset.info()


dataset['Open'].plot(figsize=(16,6))


# Convert all columns to float where possible
dataset = dataset.astype(float, errors='ignore')


dataset.head(5)


dataset.info()


# Plot Close prices
plt.plot(dataset['Date'], dataset['Close'])
plt.title('Stock Closing Prices Over Time')
plt.xlabel('Date')
plt.ylabel('Close Price')
plt.show()


dataset['Date'] = pd.to_datetime(dataset['Date'])



dataset = dataset.drop(columns=['Date'])


dataset.info()


#Prepare Data for Training
#Define Features and Target:
#For Regression: Use Close price as the target.
#For Classification: Create a binary target (e.g., 1 if Close increases, 0 otherwise).


# Regression target
X = dataset.drop(columns=['Close'])
y = dataset['Close']

# Classification target
dataset['Target'] = (dataset['Close'] > dataset['Close'].shift(1)).astype(int)
X = dataset.drop(columns=['Close', 'Target'])
y = dataset['Target']



from sklearn.model_selection import train_test_split


X_train, X_test, y_train, y_test = train_test_split(X, y, test_size=0.2, random_state=42)


#(a) Random Forest


from sklearn.ensemble import RandomForestRegressor, RandomForestClassifier


# For Regression
model_rf = RandomForestRegressor(n_estimators=100, random_state=42)
model_rf.fit(X_train, y_train)


model_rf.score(X_train, y_train)*100      ,model_rf.score(X_test,y_test)*100


# For Classification
model_rf = RandomForestClassifier(n_estimators=100, random_state=42)
model_rf.fit(X_train, y_train)


model_rf.score(X_train, y_train)*100      ,model_rf.score(X_test,y_test)*100





#(b) Support Vector Machine (SVM)


from sklearn.svm import SVR, SVC


# For Regression
model_svm = SVR(kernel='rbf')
model_svm.fit(X_train, y_train)


model_svm.score(X_train, y_train)*100      ,model_svm.score(X_test,y_test)*100


# For Classification
model_svm = SVC(kernel='rbf')
model_svm.fit(X_train, y_train)


model_svm.score(X_train, y_train)*100      ,model_svm.score(X_test,y_test)*100


from sklearn.ensemble import VotingClassifier


model_voting = VotingClassifier(estimators=[
    ('rf', RandomForestClassifier(random_state=42)),
    ('svm', SVC(probability=True, random_state=42))
], voting='soft')
model_voting.fit(X_train, y_train)


model_voting.score(X_train, y_train)*100      ,model_voting.score(X_test,y_test)*100




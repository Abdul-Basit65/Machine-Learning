import matplotlib.pyplot as plt
import numpy as np
import pandas as pd 
import sklearn
import seaborn as sns
from sklearn.cluster import KMeans


dataset = pd.read_csv("Mall_Customers.csv")
dataset.head(3)


dataset.info()


dataset.shape


x = dataset.iloc[:,[3,4]].values


x


sns.pairplot(data=dataset)
plt.show()





wcss =[]

for i in range (1,11):
    Km= KMeans(n_clusters=i,init="k-means++", random_state=42)
    Km.fit(x)

    wcss.append(Km.inertia_)


plt.plot(range (1,11), wcss , marker="o")
plt.title('Elbow Point Graph')
plt.xlabel('No.of Clustters')
plt.ylabel('wcss')
plt.grid(axis="x")
plt.show()


km= KMeans(n_clusters=3)
dataset["Predict"]=km.fit_predict(x)



dataset


sns.pairplot(data=dataset, hue="Predict")
plt.show()



